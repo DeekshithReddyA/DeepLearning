{
 "cells": [
  {
   "cell_type": "code",
   "execution_count": 1,
   "metadata": {},
   "outputs": [],
   "source": [
    "inputs = [1 , 2 , 3, 2.5]"
   ]
  },
  {
   "cell_type": "code",
   "execution_count": 2,
   "metadata": {},
   "outputs": [],
   "source": [
    "weights = [[0.2, 0.8 , -0.5, 1.0],\n",
    "           [0.5, -0.91 , 0.26, -0.5],\n",
    "           [-0.26, -0.27 , 0.17 , 0.87]]"
   ]
  },
  {
   "cell_type": "code",
   "execution_count": 3,
   "metadata": {},
   "outputs": [],
   "source": [
    "biases = [2, 3 , 0.5]"
   ]
  },
  {
   "cell_type": "code",
   "execution_count": 4,
   "metadata": {},
   "outputs": [
    {
     "name": "stdout",
     "output_type": "stream",
     "text": [
      "[4.8, 1.21, 2.385]\n"
     ]
    }
   ],
   "source": [
    "# Python code\n",
    "layer_outputs = []\n",
    "for neuron_weights , neuron_biases in zip(weights, biases):\n",
    "    neuron_output = 0\n",
    "    for n_input , weight in zip(inputs , neuron_weights):\n",
    "        neuron_output += n_input * weight\n",
    "    neuron_output += neuron_biases\n",
    "    layer_outputs.append(neuron_output)\n",
    "print(layer_outputs)"
   ]
  },
  {
   "cell_type": "code",
   "execution_count": 5,
   "metadata": {},
   "outputs": [],
   "source": [
    "import numpy as np"
   ]
  },
  {
   "cell_type": "code",
   "execution_count": 6,
   "metadata": {},
   "outputs": [
    {
     "name": "stdout",
     "output_type": "stream",
     "text": [
      "[4.8   1.21  2.385]\n"
     ]
    }
   ],
   "source": [
    "outputs = np.dot(weights , inputs) + biases\n",
    "print(outputs)"
   ]
  },
  {
   "cell_type": "code",
   "execution_count": 7,
   "metadata": {},
   "outputs": [
    {
     "data": {
      "text/plain": [
       "(3,)"
      ]
     },
     "execution_count": 7,
     "metadata": {},
     "output_type": "execute_result"
    }
   ],
   "source": [
    "outputs.shape"
   ]
  },
  {
   "cell_type": "markdown",
   "metadata": {},
   "source": [
    "np.dot(inputs , weights ) doesn't work because the shape of the inputs matrix is 4x1 and size of the weights matrix is 3x4\n",
    "\n",
    "Matrix multiplication is not possible . \n",
    "\n",
    "Hence only np.dot(weights,  inputs) works and it returns the size of 3x1 "
   ]
  },
  {
   "cell_type": "code",
   "execution_count": 16,
   "metadata": {},
   "outputs": [],
   "source": []
  },
  {
   "cell_type": "markdown",
   "metadata": {},
   "source": [
    "# BATCHES\n"
   ]
  },
  {
   "cell_type": "code",
   "execution_count": 8,
   "metadata": {},
   "outputs": [],
   "source": [
    "inputs = [[1, 2 , 3 , 2.5],\n",
    "          [2.0, 5.0 , -1.0 , 2.0],\n",
    "          [-1.5 , 2.7 , 3.3 , -0.8]]\n",
    "weights = [[0.2, 0.8 , -0.5, 1.0],\n",
    "           [0.5, -0.91 , 0.26, -0.5],\n",
    "           [-0.26, -0.27 , 0.17 , 0.87]]\n",
    "biases = [2, 3 , 0.5]\n"
   ]
  },
  {
   "cell_type": "markdown",
   "metadata": {},
   "source": [
    "Here , inputs is in 3x4 shape and weights is also in 3x4 shape . Matrix multiplication is not possible if we multiple with inputs x weights or weights x inputs . \n",
    "Therefore we transpose the weights so that the shape becomes 4x3 . Now we can do a dot product and the output will be 3x3 or 4x4 . \n",
    "\n",
    "And again here we need to multiply inputs x weights because the output of weights(T) x inputs is going to be of shape 4x4 . But the bias is of shape 3x1 and the matrix addition would not be possible . "
   ]
  },
  {
   "cell_type": "code",
   "execution_count": 9,
   "metadata": {},
   "outputs": [
    {
     "data": {
      "text/plain": [
       "array([[ 4.8  ,  1.21 ,  2.385],\n",
       "       [ 8.9  , -1.81 ,  0.2  ],\n",
       "       [ 1.41 ,  1.051,  0.026]])"
      ]
     },
     "execution_count": 9,
     "metadata": {},
     "output_type": "execute_result"
    }
   ],
   "source": [
    "layer1_outputs = np.dot(inputs , np.array(weights).T) + biases\n",
    "layer1_outputs"
   ]
  },
  {
   "cell_type": "markdown",
   "metadata": {},
   "source": [
    "Adding a Layer to neural network"
   ]
  },
  {
   "cell_type": "code",
   "execution_count": 10,
   "metadata": {},
   "outputs": [],
   "source": [
    "weights2 = [[0.1 , -0.14 , 0.5],\n",
    "            [-0.5, 0.12 , -0.33],\n",
    "            [-0.44, -0.73 , -0.13]]\n",
    "biases2 =  [-1 , 2 , -0.5]"
   ]
  },
  {
   "cell_type": "code",
   "execution_count": 11,
   "metadata": {},
   "outputs": [
    {
     "data": {
      "text/plain": [
       "array([[ 4.8  ,  1.21 ,  2.385],\n",
       "       [ 8.9  , -1.81 ,  0.2  ],\n",
       "       [ 1.41 ,  1.051,  0.026]])"
      ]
     },
     "execution_count": 11,
     "metadata": {},
     "output_type": "execute_result"
    }
   ],
   "source": [
    "layer1_outputs = np.dot(inputs , np.array(weights).T) + biases\n",
    "layer1_outputs"
   ]
  },
  {
   "cell_type": "code",
   "execution_count": 12,
   "metadata": {},
   "outputs": [
    {
     "data": {
      "text/plain": [
       "array([[ 0.5031 , -1.04185, -3.80535],\n",
       "       [ 0.2434 , -2.7332 , -3.1207 ],\n",
       "       [-0.99314,  1.41254, -1.89101]])"
      ]
     },
     "execution_count": 12,
     "metadata": {},
     "output_type": "execute_result"
    }
   ],
   "source": [
    "layer2_outputs = np.dot(layer1_outputs , np.array(weights2).T) + biases2\n",
    "layer2_outputs"
   ]
  },
  {
   "cell_type": "markdown",
   "metadata": {},
   "source": [
    "Simplifying"
   ]
  },
  {
   "cell_type": "markdown",
   "metadata": {},
   "source": [
    "Adding Object Layers"
   ]
  },
  {
   "cell_type": "code",
   "execution_count": 13,
   "metadata": {},
   "outputs": [],
   "source": [
    "X = [[1, 2 , 3 , 2.5],\n",
    "          [2.0, 5.0 , -1.0 , 2.0],\n",
    "          [-1.5 , 2.7 , 3.3 , -0.8]]"
   ]
  },
  {
   "cell_type": "code",
   "execution_count": 37,
   "metadata": {},
   "outputs": [
    {
     "name": "stdout",
     "output_type": "stream",
     "text": [
      "[[0.05680446 0.09255966 0.00710361]\n",
      " [0.00871293 0.00202184 0.08326198]\n",
      " [0.07781568 0.08700121 0.09786183]\n",
      " [0.07991586 0.04614794 0.07805292]]\n"
     ]
    }
   ],
   "source": [
    "print(0.10*np.random.rand(4,3))\n",
    "\n",
    "# These are the weights of the 3 neurons\n",
    "# [[9.13541965e-01 4.58068068e-01 6.73847001e-01]\n",
    "#  [8.31681615e-01 6.92418838e-01 4.10968595e-01]\n",
    "#  [2.29277594e-01 6.80043915e-01 8.91694855e-01]\n",
    "#  [2.34997555e-04 2.10783015e-01 4.05103993e-01]]\n",
    "\n",
    "# This is the example output . The values are more than 1 . These are the weights so using high values is not ideal.\n",
    "# That is the reason 0.10 is multiplied.\n",
    "\n",
    "# THe reason we are initialising the matrix as 3x4 is to avoid Transpose in the later operations . \n",
    "\n"
   ]
  },
  {
   "cell_type": "code",
   "execution_count": 35,
   "metadata": {},
   "outputs": [],
   "source": [
    "np.random.seed(0)"
   ]
  },
  {
   "cell_type": "code",
   "execution_count": 44,
   "metadata": {},
   "outputs": [],
   "source": [
    "class Layer_Dense:\n",
    "    def __init__(self , n_inputs , n_neurons):\n",
    "        self.weights = 0.10 * np.random.randn(n_inputs , n_neurons)\n",
    "        self.biases = np.zeros((1,n_neurons))\n",
    "    def forward(self , inputs):\n",
    "        self.output = np.dot(inputs , self.weights) + self.biases"
   ]
  },
  {
   "cell_type": "code",
   "execution_count": 45,
   "metadata": {},
   "outputs": [],
   "source": [
    "layer1 = Layer_Dense(4, 5)\n",
    "layer2 = Layer_Dense(5, 2)"
   ]
  },
  {
   "cell_type": "code",
   "execution_count": 46,
   "metadata": {},
   "outputs": [
    {
     "name": "stdout",
     "output_type": "stream",
     "text": [
      "[[-0.41547002  0.70869409  0.31835306  0.69519709  0.51953139]\n",
      " [-0.52802928  0.72118727  0.89654695  0.64941058  0.33951667]\n",
      " [-0.7995324   0.71286305  0.49708831  0.58571338 -0.19256797]]\n"
     ]
    }
   ],
   "source": [
    "layer1.forward(X)\n",
    "print(layer1.output)"
   ]
  },
  {
   "cell_type": "code",
   "execution_count": 47,
   "metadata": {},
   "outputs": [
    {
     "name": "stdout",
     "output_type": "stream",
     "text": [
      "[[-0.01530532  0.01493205]\n",
      " [-0.07502277  0.06932956]\n",
      " [ 0.00019507  0.04820454]]\n"
     ]
    }
   ],
   "source": [
    "layer2.forward(layer1.output)\n",
    "print(layer2.output)"
   ]
  },
  {
   "cell_type": "markdown",
   "metadata": {},
   "source": [
    "ReLU"
   ]
  },
  {
   "cell_type": "code",
   "execution_count": 48,
   "metadata": {},
   "outputs": [],
   "source": [
    "inputs = [0 , 2 , -1 , 3.3 , -2.7 , 1.1 , 2.2 , -100]\n"
   ]
  },
  {
   "cell_type": "code",
   "execution_count": 51,
   "metadata": {},
   "outputs": [
    {
     "name": "stdout",
     "output_type": "stream",
     "text": [
      "[0, 2, 0, 3.3, 0, 1.1, 2.2, 0]\n"
     ]
    }
   ],
   "source": [
    "output = []\n",
    "for i in inputs:\n",
    "    if i > 0:\n",
    "        output.append(i)\n",
    "    elif i <= 0:\n",
    "        output.append(0)\n",
    "print(output)"
   ]
  },
  {
   "cell_type": "code",
   "execution_count": 52,
   "metadata": {},
   "outputs": [
    {
     "name": "stdout",
     "output_type": "stream",
     "text": [
      "[0, 2, 0, 3.3, 0, 1.1, 2.2, 0]\n"
     ]
    }
   ],
   "source": [
    "output = []\n",
    "for i in inputs:\n",
    "    output.append(max(0,i))\n",
    "print(output)"
   ]
  },
  {
   "cell_type": "code",
   "execution_count": 53,
   "metadata": {},
   "outputs": [],
   "source": [
    "    "
   ]
  },
  {
   "cell_type": "code",
   "execution_count": 55,
   "metadata": {},
   "outputs": [],
   "source": [
    "#importing dataset\n",
    "from nnfs.datasets import spiral_data\n",
    "\n",
    "X , y = spiral_data(100 , 3)"
   ]
  },
  {
   "cell_type": "code",
   "execution_count": 56,
   "metadata": {},
   "outputs": [],
   "source": [
    "class Layer_Dense:\n",
    "    def __init__(self , n_inputs , n_neurons):\n",
    "        self.weights = 0.10 * np.random.randn(n_inputs , n_neurons)\n",
    "        self.biases = np.zeros((1,n_neurons))\n",
    "    def forward(self , inputs):\n",
    "        self.output = np.dot(inputs , self.weights) + self.biases\n",
    "\n",
    "class Activation_ReLU:\n",
    "    def forward(self,  inputs):\n",
    "        self.output = np.maximum(0 , inputs)\n"
   ]
  },
  {
   "cell_type": "code",
   "execution_count": 62,
   "metadata": {},
   "outputs": [],
   "source": [
    "layer1 = Layer_Dense(2, 5)\n",
    "activation1 = Activation_ReLU()"
   ]
  },
  {
   "cell_type": "code",
   "execution_count": 63,
   "metadata": {},
   "outputs": [
    {
     "name": "stdout",
     "output_type": "stream",
     "text": [
      "[[ 0.          0.          0.          0.          0.        ]\n",
      " [ 0.00073365  0.00064859 -0.00037511 -0.00056511 -0.00071413]\n",
      " [ 0.00163209  0.000889   -0.00082208 -0.00173472 -0.00097863]\n",
      " ...\n",
      " [-0.07529232  0.00357203  0.03692608  0.11846862 -0.00395959]\n",
      " [-0.06241302  0.0316388   0.02996742  0.12293083 -0.03486913]\n",
      " [-0.07513902  0.00835974  0.03674352  0.12236185 -0.00923292]]\n",
      "[[0.         0.         0.         0.         0.        ]\n",
      " [0.00073365 0.00064859 0.         0.         0.        ]\n",
      " [0.00163209 0.000889   0.         0.         0.        ]\n",
      " ...\n",
      " [0.         0.00357203 0.03692608 0.11846862 0.        ]\n",
      " [0.         0.0316388  0.02996742 0.12293083 0.        ]\n",
      " [0.         0.00835974 0.03674352 0.12236185 0.        ]]\n"
     ]
    }
   ],
   "source": [
    "layer1.forward(X)\n",
    "print(layer1.output)\n",
    "activation1.forward(layer1.output)\n",
    "print(activation1.output)"
   ]
  },
  {
   "cell_type": "code",
   "execution_count": null,
   "metadata": {},
   "outputs": [],
   "source": []
  }
 ],
 "metadata": {
  "kernelspec": {
   "display_name": "Python 3",
   "language": "python",
   "name": "python3"
  },
  "language_info": {
   "codemirror_mode": {
    "name": "ipython",
    "version": 3
   },
   "file_extension": ".py",
   "mimetype": "text/x-python",
   "name": "python",
   "nbconvert_exporter": "python",
   "pygments_lexer": "ipython3",
   "version": "3.13.0"
  }
 },
 "nbformat": 4,
 "nbformat_minor": 2
}
